{
 "cells": [
  {
   "cell_type": "code",
   "execution_count": 18,
   "source": [
    "import numpy as np\n"
   ],
   "outputs": [],
   "metadata": {}
  },
  {
   "cell_type": "code",
   "execution_count": 17,
   "source": [
    "def crear_tablero(dimensiones, casilla):\n",
    "    tablero_agua = np.full(dimensiones, casilla)\n",
    "    print(tablero_agua)\n",
    "    \n",
    "tablero_agua = crear_tablero(dimensiones=(10,10), casilla='Leo')\n",
    "tablero_maquina = crear_tablero(dimensiones=(10,10), casilla='Palma')\n",
    "\n",
    "print(tablero_agua)\n",
    "print(\"******************\")\n",
    "print(tablero_maquina)"
   ],
   "outputs": [
    {
     "output_type": "stream",
     "name": "stdout",
     "text": [
      "[['Leo' 'Leo' 'Leo' 'Leo' 'Leo' 'Leo' 'Leo' 'Leo' 'Leo' 'Leo']\n",
      " ['Leo' 'Leo' 'Leo' 'Leo' 'Leo' 'Leo' 'Leo' 'Leo' 'Leo' 'Leo']\n",
      " ['Leo' 'Leo' 'Leo' 'Leo' 'Leo' 'Leo' 'Leo' 'Leo' 'Leo' 'Leo']\n",
      " ['Leo' 'Leo' 'Leo' 'Leo' 'Leo' 'Leo' 'Leo' 'Leo' 'Leo' 'Leo']\n",
      " ['Leo' 'Leo' 'Leo' 'Leo' 'Leo' 'Leo' 'Leo' 'Leo' 'Leo' 'Leo']\n",
      " ['Leo' 'Leo' 'Leo' 'Leo' 'Leo' 'Leo' 'Leo' 'Leo' 'Leo' 'Leo']\n",
      " ['Leo' 'Leo' 'Leo' 'Leo' 'Leo' 'Leo' 'Leo' 'Leo' 'Leo' 'Leo']\n",
      " ['Leo' 'Leo' 'Leo' 'Leo' 'Leo' 'Leo' 'Leo' 'Leo' 'Leo' 'Leo']\n",
      " ['Leo' 'Leo' 'Leo' 'Leo' 'Leo' 'Leo' 'Leo' 'Leo' 'Leo' 'Leo']\n",
      " ['Leo' 'Leo' 'Leo' 'Leo' 'Leo' 'Leo' 'Leo' 'Leo' 'Leo' 'Leo']]\n",
      "[['Palma' 'Palma' 'Palma' 'Palma' 'Palma' 'Palma' 'Palma' 'Palma' 'Palma'\n",
      "  'Palma']\n",
      " ['Palma' 'Palma' 'Palma' 'Palma' 'Palma' 'Palma' 'Palma' 'Palma' 'Palma'\n",
      "  'Palma']\n",
      " ['Palma' 'Palma' 'Palma' 'Palma' 'Palma' 'Palma' 'Palma' 'Palma' 'Palma'\n",
      "  'Palma']\n",
      " ['Palma' 'Palma' 'Palma' 'Palma' 'Palma' 'Palma' 'Palma' 'Palma' 'Palma'\n",
      "  'Palma']\n",
      " ['Palma' 'Palma' 'Palma' 'Palma' 'Palma' 'Palma' 'Palma' 'Palma' 'Palma'\n",
      "  'Palma']\n",
      " ['Palma' 'Palma' 'Palma' 'Palma' 'Palma' 'Palma' 'Palma' 'Palma' 'Palma'\n",
      "  'Palma']\n",
      " ['Palma' 'Palma' 'Palma' 'Palma' 'Palma' 'Palma' 'Palma' 'Palma' 'Palma'\n",
      "  'Palma']\n",
      " ['Palma' 'Palma' 'Palma' 'Palma' 'Palma' 'Palma' 'Palma' 'Palma' 'Palma'\n",
      "  'Palma']\n",
      " ['Palma' 'Palma' 'Palma' 'Palma' 'Palma' 'Palma' 'Palma' 'Palma' 'Palma'\n",
      "  'Palma']\n",
      " ['Palma' 'Palma' 'Palma' 'Palma' 'Palma' 'Palma' 'Palma' 'Palma' 'Palma'\n",
      "  'Palma']]\n",
      "None\n",
      "******************\n",
      "None\n"
     ]
    }
   ],
   "metadata": {}
  },
  {
   "cell_type": "code",
   "execution_count": null,
   "source": [
    "def crear_barcos(tablero):\n",
    "    ancho = np.random.randint(0, 10)\n",
    "    alto = np.random.randint(0, 10)\n",
    "\n",
    "    return tablero[ancho][alto]\n",
    "\n",
    "crear_barcos(tablero=Tablero_maquina)"
   ],
   "outputs": [],
   "metadata": {}
  },
  {
   "cell_type": "code",
   "execution_count": 21,
   "source": [
    "Tablero_agua = np.full((10,10), \"_\")\n",
    "\n",
    "Tablero_maquina = Tablero_agua\n",
    "Tablero_maquina[0, 0:4]= \"B\"\n",
    "Tablero_maquina[3:6, 2]= \"B\"\n",
    "Tablero_maquina[3:6, 5]= \"B\"\n",
    "Tablero_maquina[1, 7:9]= \"B\"\n",
    "Tablero_maquina[3, 7:9]= \"B\"\n",
    "Tablero_maquina[9, 1:3]=\"B\"\n",
    "Tablero_maquina[7, 1]= \"B\"\n",
    "Tablero_maquina[7, 4]= \"B\"\n",
    "Tablero_maquina[8, 6]= \"B\"\n",
    "Tablero_maquina[9, 8]= \"B\"\n",
    "\n",
    "Tablero_agua = np.full((10,10), \"_\")\n",
    "Tablero_agua_M = Tablero_agua\n",
    "print(Tablero_agua_M)\n",
    "print(\"-------------------------------------------\")\n",
    "#print(Tablero_maquina)\n"
   ],
   "outputs": [
    {
     "output_type": "stream",
     "name": "stdout",
     "text": [
      "[['_' '_' '_' '_' '_' '_' '_' '_' '_' '_']\n",
      " ['_' '_' '_' '_' '_' '_' '_' '_' '_' '_']\n",
      " ['_' '_' '_' '_' '_' '_' '_' '_' '_' '_']\n",
      " ['_' '_' '_' '_' '_' '_' '_' '_' '_' '_']\n",
      " ['_' '_' '_' '_' '_' '_' '_' '_' '_' '_']\n",
      " ['_' '_' '_' '_' '_' '_' '_' '_' '_' '_']\n",
      " ['_' '_' '_' '_' '_' '_' '_' '_' '_' '_']\n",
      " ['_' '_' '_' '_' '_' '_' '_' '_' '_' '_']\n",
      " ['_' '_' '_' '_' '_' '_' '_' '_' '_' '_']\n",
      " ['_' '_' '_' '_' '_' '_' '_' '_' '_' '_']]\n",
      "-------------------------------------------\n"
     ]
    }
   ],
   "metadata": {}
  },
  {
   "cell_type": "code",
   "execution_count": 22,
   "source": [
    "Tablero_agua = np.full((10,10), \"_\")\n",
    "\n",
    "Tablero_jugador=Tablero_agua\n",
    "Tablero_jugador[5, 0:4]= \"B\"\n",
    "Tablero_jugador[1:4, 3]= \"B\"\n",
    "Tablero_jugador[2:5, 5]= \"B\"\n",
    "Tablero_jugador[0, 1:3]= \"B\"\n",
    "Tablero_jugador[0, 5:7]=\"B\"\n",
    "Tablero_jugador[9, 1:3]= \"B\"\n",
    "Tablero_jugador[7, 1]= \"B\"\n",
    "Tablero_jugador[7, 4]= \"B\"\n",
    "Tablero_jugador[8, 6]= \"B\"\n",
    "Tablero_jugador[9, 8]= \"B\"\n",
    "\n",
    "Tablero_agua = np.full((10,10), \"_\")\n",
    "Tablero_agua_J = Tablero_agua\n",
    "print(Tablero_agua_J)\n",
    "print(\"-------------------------------------------\")\n",
    "print(Tablero_jugador)"
   ],
   "outputs": [
    {
     "output_type": "stream",
     "name": "stdout",
     "text": [
      "[['_' '_' '_' '_' '_' '_' '_' '_' '_' '_']\n",
      " ['_' '_' '_' '_' '_' '_' '_' '_' '_' '_']\n",
      " ['_' '_' '_' '_' '_' '_' '_' '_' '_' '_']\n",
      " ['_' '_' '_' '_' '_' '_' '_' '_' '_' '_']\n",
      " ['_' '_' '_' '_' '_' '_' '_' '_' '_' '_']\n",
      " ['_' '_' '_' '_' '_' '_' '_' '_' '_' '_']\n",
      " ['_' '_' '_' '_' '_' '_' '_' '_' '_' '_']\n",
      " ['_' '_' '_' '_' '_' '_' '_' '_' '_' '_']\n",
      " ['_' '_' '_' '_' '_' '_' '_' '_' '_' '_']\n",
      " ['_' '_' '_' '_' '_' '_' '_' '_' '_' '_']]\n",
      "-------------------------------------------\n",
      "[['_' 'B' 'B' '_' '_' 'B' 'B' '_' '_' '_']\n",
      " ['_' '_' '_' 'B' '_' '_' '_' '_' '_' '_']\n",
      " ['_' '_' '_' 'B' '_' 'B' '_' '_' '_' '_']\n",
      " ['_' '_' '_' 'B' '_' 'B' '_' '_' '_' '_']\n",
      " ['_' '_' '_' '_' '_' 'B' '_' '_' '_' '_']\n",
      " ['B' 'B' 'B' 'B' '_' '_' '_' '_' '_' '_']\n",
      " ['_' '_' '_' '_' '_' '_' '_' '_' '_' '_']\n",
      " ['_' 'B' '_' '_' 'B' '_' '_' '_' '_' '_']\n",
      " ['_' '_' '_' '_' '_' '_' 'B' '_' '_' '_']\n",
      " ['_' 'B' 'B' '_' '_' '_' '_' '_' 'B' '_']]\n"
     ]
    }
   ],
   "metadata": {}
  },
  {
   "cell_type": "code",
   "execution_count": 23,
   "source": [
    "from disparos import disparo_jugador\n",
    "disparo_jugador()"
   ],
   "outputs": [
    {
     "output_type": "error",
     "ename": "NameError",
     "evalue": "name 'Tablero_maquina' is not defined",
     "traceback": [
      "\u001b[0;31m---------------------------------------------------------------------------\u001b[0m",
      "\u001b[0;31mNameError\u001b[0m                                 Traceback (most recent call last)",
      "\u001b[0;32m/var/folders/vw/xsl3jt6s4vsgf01j03rl_vkm0000gn/T/ipykernel_2878/3656089857.py\u001b[0m in \u001b[0;36m<module>\u001b[0;34m\u001b[0m\n\u001b[1;32m      1\u001b[0m \u001b[0;32mfrom\u001b[0m \u001b[0mdisparos\u001b[0m \u001b[0;32mimport\u001b[0m \u001b[0mdisparo_jugador\u001b[0m\u001b[0;34m\u001b[0m\u001b[0;34m\u001b[0m\u001b[0m\n\u001b[0;32m----> 2\u001b[0;31m \u001b[0mdisparo_jugador\u001b[0m\u001b[0;34m(\u001b[0m\u001b[0;34m)\u001b[0m\u001b[0;34m\u001b[0m\u001b[0;34m\u001b[0m\u001b[0m\n\u001b[0m",
      "\u001b[0;32m~/Documents/The_Bridge/Alumno_Folder/Alumno_Curso/datascience_thebridge_9_21/2-Data_analysis/entregas/Hundir la flota/disparos.py\u001b[0m in \u001b[0;36mdisparo_jugador\u001b[0;34m()\u001b[0m\n\u001b[1;32m      5\u001b[0m         \u001b[0my\u001b[0m\u001b[0;34m=\u001b[0m\u001b[0mint\u001b[0m\u001b[0;34m(\u001b[0m\u001b[0minput\u001b[0m\u001b[0;34m(\u001b[0m\u001b[0;34m\"Coordenada Y\"\u001b[0m\u001b[0;34m)\u001b[0m\u001b[0;34m)\u001b[0m\u001b[0;34m\u001b[0m\u001b[0;34m\u001b[0m\u001b[0m\n\u001b[1;32m      6\u001b[0m \u001b[0;34m\u001b[0m\u001b[0m\n\u001b[0;32m----> 7\u001b[0;31m         \u001b[0;32mif\u001b[0m \u001b[0mTablero_maquina\u001b[0m\u001b[0;34m[\u001b[0m\u001b[0mx\u001b[0m\u001b[0;34m]\u001b[0m\u001b[0;34m[\u001b[0m\u001b[0my\u001b[0m\u001b[0;34m]\u001b[0m \u001b[0;34m==\u001b[0m \u001b[0;34m\"B\"\u001b[0m\u001b[0;34m:\u001b[0m\u001b[0;34m\u001b[0m\u001b[0;34m\u001b[0m\u001b[0m\n\u001b[0m\u001b[1;32m      8\u001b[0m             \u001b[0mTablero_agua_J\u001b[0m\u001b[0;34m[\u001b[0m\u001b[0mx\u001b[0m\u001b[0;34m]\u001b[0m\u001b[0;34m[\u001b[0m\u001b[0my\u001b[0m\u001b[0;34m]\u001b[0m \u001b[0;34m=\u001b[0m \u001b[0;34m\"X\"\u001b[0m\u001b[0;34m\u001b[0m\u001b[0;34m\u001b[0m\u001b[0m\n\u001b[1;32m      9\u001b[0m             \u001b[0mTablero_maquina\u001b[0m\u001b[0;34m[\u001b[0m\u001b[0mx\u001b[0m\u001b[0;34m]\u001b[0m\u001b[0;34m[\u001b[0m\u001b[0my\u001b[0m\u001b[0;34m]\u001b[0m \u001b[0;34m=\u001b[0m \u001b[0;34m\"X\"\u001b[0m\u001b[0;34m\u001b[0m\u001b[0;34m\u001b[0m\u001b[0m\n",
      "\u001b[0;31mNameError\u001b[0m: name 'Tablero_maquina' is not defined"
     ]
    }
   ],
   "metadata": {}
  },
  {
   "cell_type": "markdown",
   "source": [
    "# Crear barcos y tablero\n",
    "tablero_jugador = crear_tablero(dimensiones=(10,10), casilla=\"_\")\n",
    "tablero_agua = crear_tablero(dimensiones=(10,10), casilla=\"_\")"
   ],
   "metadata": {}
  },
  {
   "cell_type": "code",
   "execution_count": 24,
   "source": [
    "def disparo_jugador():\n",
    "    bandera = True\n",
    "    while bandera:\n",
    "        x=int(input(\"Coordenada X\"))\n",
    "        y=int(input(\"Coordenada Y\"))\n",
    "    \n",
    "        if Tablero_maquina[x][y] == \"B\":\n",
    "            Tablero_agua_J[x][y] = \"X\"\n",
    "            Tablero_maquina[x][y] = \"X\"\n",
    "            print(\"Tablero_agua_Jugador\")\n",
    "            print(Tablero_agua_J)\n",
    "            print(\"-------------------------------------------\")\n",
    "            print(\"Tablero_maquina\")\n",
    "            print(Tablero_maquina)\n",
    "        elif Tablero_maquina[x][y] == \"X\" or Tablero_maquina[x][y] == \"A\":\n",
    "            print(\"Esta coordenada ya está usada, pierdes turno\")\n",
    "            bandera = False\n",
    "        else: \n",
    "            Tablero_agua_J[x][y] = \"A\"\n",
    "            print(\"Tablero_agua_Jugador\") \n",
    "            print(Tablero_agua_J)\n",
    "            bandera = False\n",
    "    #¿CUANDO FALLE PUEDO LLAMAR AQUÍ A LA FUNCION disparo_maquina PARA QUE EMPIECE SU TURNO?\n",
    "\n",
    "def jugar_partida()\n",
    "    inicializar_tablero()\n",
    "    establecer_coordenadas()\n",
    "    while barcos_con_vida:\n",
    "        disparo_jugador()\n",
    "        disparo_maquina()\n",
    "        barcos_con_vida == False\n",
    "    print(\"FIN DE LA PARTIDA\")\n",
    "\n",
    "jugar_partida()\n"
   ],
   "outputs": [
    {
     "output_type": "error",
     "ename": "SyntaxError",
     "evalue": "invalid syntax (4091215972.py, line 25)",
     "traceback": [
      "\u001b[0;36m  File \u001b[0;32m\"/var/folders/vw/xsl3jt6s4vsgf01j03rl_vkm0000gn/T/ipykernel_2878/4091215972.py\"\u001b[0;36m, line \u001b[0;32m25\u001b[0m\n\u001b[0;31m    def jugar_partida()\u001b[0m\n\u001b[0m                       ^\u001b[0m\n\u001b[0;31mSyntaxError\u001b[0m\u001b[0;31m:\u001b[0m invalid syntax\n"
     ]
    }
   ],
   "metadata": {}
  },
  {
   "cell_type": "code",
   "execution_count": null,
   "source": [
    "def disparo_maquina():\n",
    "    x = np.random.randint(10)\n",
    "    y = np.random.randint(10)"
   ],
   "outputs": [],
   "metadata": {}
  }
 ],
 "metadata": {
  "orig_nbformat": 4,
  "language_info": {
   "name": "python",
   "version": "3.7.4",
   "mimetype": "text/x-python",
   "codemirror_mode": {
    "name": "ipython",
    "version": 3
   },
   "pygments_lexer": "ipython3",
   "nbconvert_exporter": "python",
   "file_extension": ".py"
  },
  "kernelspec": {
   "name": "python3",
   "display_name": "Python 3.7.4 64-bit"
  },
  "interpreter": {
   "hash": "aee8b7b246df8f9039afb4144a1f6fd8d2ca17a180786b69acc140d282b71a49"
  }
 },
 "nbformat": 4,
 "nbformat_minor": 2
}