{
 "cells": [
  {
   "cell_type": "code",
   "execution_count": 2,
   "source": [
    "import pandas as pd\n",
    "import numpy as np"
   ],
   "outputs": [],
   "metadata": {}
  },
  {
   "cell_type": "code",
   "execution_count": 37,
   "source": [
    "#Crear el tablero\n",
    "tablero=[\n",
    "    ['-','-','-','-','-','-','-','-','-','-'],\n",
    "    ['-','-','-','-','-','-','-','-','-','-'],\n",
    "    ['-','-','-','-','-','-','-','-','-','-'],\n",
    "    ['-','-','-','-','-','-','-','-','-','-'],\n",
    "    ['-','-','-','-','-','-','-','-','-','-'],\n",
    "    ['-','-','-','-','-','-','-','-','-','-'],\n",
    "    ['-','-','-','-','-','-','-','-','-','-'],\n",
    "    ['-','-','-','-','-','-','-','-','-','-'],\n",
    "    ['-','-','-','-','-','-','-','-','-','-'],\n",
    "    ['-','-','-','-','-','-','-','-','-','-'],\n",
    "]\n",
    "tablero"
   ],
   "outputs": [
    {
     "output_type": "execute_result",
     "data": {
      "text/plain": [
       "[['-', '-', '-', '-', '-', '-', '-', '-', '-', '-'],\n",
       " ['-', '-', '-', '-', '-', '-', '-', '-', '-', '-'],\n",
       " ['-', '-', '-', '-', '-', '-', '-', '-', '-', '-'],\n",
       " ['-', '-', '-', '-', '-', '-', '-', '-', '-', '-'],\n",
       " ['-', '-', '-', '-', '-', '-', '-', '-', '-', '-'],\n",
       " ['-', '-', '-', '-', '-', '-', '-', '-', '-', '-'],\n",
       " ['-', '-', '-', '-', '-', '-', '-', '-', '-', '-'],\n",
       " ['-', '-', '-', '-', '-', '-', '-', '-', '-', '-'],\n",
       " ['-', '-', '-', '-', '-', '-', '-', '-', '-', '-'],\n",
       " ['-', '-', '-', '-', '-', '-', '-', '-', '-', '-']]"
      ]
     },
     "metadata": {},
     "execution_count": 37
    }
   ],
   "metadata": {}
  },
  {
   "cell_type": "code",
   "execution_count": 38,
   "source": [
    "df = pd.DataFrame(np.random.rand(10, 10),\n",
    "             columns=['A', 'B', 'C', 'D', 'E', 'F', 'G', 'H', 'I', 'J'],\n",
    "             index=['1', '2', '3', '4', '5', '6', '7', '8', '9', '10'])\n",
    "df\n",
    "#Se pueden modificar los valores de todas las columnas?"
   ],
   "outputs": [
    {
     "output_type": "execute_result",
     "data": {
      "text/html": [
       "<div>\n",
       "<style scoped>\n",
       "    .dataframe tbody tr th:only-of-type {\n",
       "        vertical-align: middle;\n",
       "    }\n",
       "\n",
       "    .dataframe tbody tr th {\n",
       "        vertical-align: top;\n",
       "    }\n",
       "\n",
       "    .dataframe thead th {\n",
       "        text-align: right;\n",
       "    }\n",
       "</style>\n",
       "<table border=\"1\" class=\"dataframe\">\n",
       "  <thead>\n",
       "    <tr style=\"text-align: right;\">\n",
       "      <th></th>\n",
       "      <th>A</th>\n",
       "      <th>B</th>\n",
       "      <th>C</th>\n",
       "      <th>D</th>\n",
       "      <th>E</th>\n",
       "      <th>F</th>\n",
       "      <th>G</th>\n",
       "      <th>H</th>\n",
       "      <th>I</th>\n",
       "      <th>J</th>\n",
       "    </tr>\n",
       "  </thead>\n",
       "  <tbody>\n",
       "    <tr>\n",
       "      <th>1</th>\n",
       "      <td>0.085195</td>\n",
       "      <td>0.393826</td>\n",
       "      <td>0.264956</td>\n",
       "      <td>0.246501</td>\n",
       "      <td>0.872756</td>\n",
       "      <td>0.812231</td>\n",
       "      <td>0.111005</td>\n",
       "      <td>0.577352</td>\n",
       "      <td>0.835254</td>\n",
       "      <td>0.624431</td>\n",
       "    </tr>\n",
       "    <tr>\n",
       "      <th>2</th>\n",
       "      <td>0.229536</td>\n",
       "      <td>0.359116</td>\n",
       "      <td>0.505663</td>\n",
       "      <td>0.909294</td>\n",
       "      <td>0.344082</td>\n",
       "      <td>0.829942</td>\n",
       "      <td>0.791885</td>\n",
       "      <td>0.292540</td>\n",
       "      <td>0.460043</td>\n",
       "      <td>0.379872</td>\n",
       "    </tr>\n",
       "    <tr>\n",
       "      <th>3</th>\n",
       "      <td>0.573378</td>\n",
       "      <td>0.497624</td>\n",
       "      <td>0.653877</td>\n",
       "      <td>0.704192</td>\n",
       "      <td>0.599339</td>\n",
       "      <td>0.902492</td>\n",
       "      <td>0.552889</td>\n",
       "      <td>0.713098</td>\n",
       "      <td>0.005080</td>\n",
       "      <td>0.922342</td>\n",
       "    </tr>\n",
       "    <tr>\n",
       "      <th>4</th>\n",
       "      <td>0.790557</td>\n",
       "      <td>0.782372</td>\n",
       "      <td>0.458890</td>\n",
       "      <td>0.741825</td>\n",
       "      <td>0.859446</td>\n",
       "      <td>0.990751</td>\n",
       "      <td>0.293496</td>\n",
       "      <td>0.560987</td>\n",
       "      <td>0.171650</td>\n",
       "      <td>0.679361</td>\n",
       "    </tr>\n",
       "    <tr>\n",
       "      <th>5</th>\n",
       "      <td>0.312244</td>\n",
       "      <td>0.716117</td>\n",
       "      <td>0.965347</td>\n",
       "      <td>0.162260</td>\n",
       "      <td>0.576665</td>\n",
       "      <td>0.458893</td>\n",
       "      <td>0.442770</td>\n",
       "      <td>0.345712</td>\n",
       "      <td>0.444703</td>\n",
       "      <td>0.262998</td>\n",
       "    </tr>\n",
       "    <tr>\n",
       "      <th>6</th>\n",
       "      <td>0.312893</td>\n",
       "      <td>0.454190</td>\n",
       "      <td>0.758323</td>\n",
       "      <td>0.575655</td>\n",
       "      <td>0.274177</td>\n",
       "      <td>0.717281</td>\n",
       "      <td>0.229883</td>\n",
       "      <td>0.000820</td>\n",
       "      <td>0.053233</td>\n",
       "      <td>0.416532</td>\n",
       "    </tr>\n",
       "    <tr>\n",
       "      <th>7</th>\n",
       "      <td>0.813358</td>\n",
       "      <td>0.614391</td>\n",
       "      <td>0.381239</td>\n",
       "      <td>0.405222</td>\n",
       "      <td>0.624955</td>\n",
       "      <td>0.328976</td>\n",
       "      <td>0.414547</td>\n",
       "      <td>0.576625</td>\n",
       "      <td>0.114652</td>\n",
       "      <td>0.453706</td>\n",
       "    </tr>\n",
       "    <tr>\n",
       "      <th>8</th>\n",
       "      <td>0.690050</td>\n",
       "      <td>0.797857</td>\n",
       "      <td>0.047699</td>\n",
       "      <td>0.671951</td>\n",
       "      <td>0.217777</td>\n",
       "      <td>0.618294</td>\n",
       "      <td>0.198371</td>\n",
       "      <td>0.031669</td>\n",
       "      <td>0.698451</td>\n",
       "      <td>0.851870</td>\n",
       "    </tr>\n",
       "    <tr>\n",
       "      <th>9</th>\n",
       "      <td>0.644915</td>\n",
       "      <td>0.609875</td>\n",
       "      <td>0.919641</td>\n",
       "      <td>0.572903</td>\n",
       "      <td>0.565864</td>\n",
       "      <td>0.964432</td>\n",
       "      <td>0.106922</td>\n",
       "      <td>0.129092</td>\n",
       "      <td>0.579990</td>\n",
       "      <td>0.727286</td>\n",
       "    </tr>\n",
       "    <tr>\n",
       "      <th>10</th>\n",
       "      <td>0.289710</td>\n",
       "      <td>0.567188</td>\n",
       "      <td>0.520072</td>\n",
       "      <td>0.941655</td>\n",
       "      <td>0.295082</td>\n",
       "      <td>0.306848</td>\n",
       "      <td>0.271910</td>\n",
       "      <td>0.323640</td>\n",
       "      <td>0.368813</td>\n",
       "      <td>0.493562</td>\n",
       "    </tr>\n",
       "  </tbody>\n",
       "</table>\n",
       "</div>"
      ],
      "text/plain": [
       "           A         B         C         D         E         F         G  \\\n",
       "1   0.085195  0.393826  0.264956  0.246501  0.872756  0.812231  0.111005   \n",
       "2   0.229536  0.359116  0.505663  0.909294  0.344082  0.829942  0.791885   \n",
       "3   0.573378  0.497624  0.653877  0.704192  0.599339  0.902492  0.552889   \n",
       "4   0.790557  0.782372  0.458890  0.741825  0.859446  0.990751  0.293496   \n",
       "5   0.312244  0.716117  0.965347  0.162260  0.576665  0.458893  0.442770   \n",
       "6   0.312893  0.454190  0.758323  0.575655  0.274177  0.717281  0.229883   \n",
       "7   0.813358  0.614391  0.381239  0.405222  0.624955  0.328976  0.414547   \n",
       "8   0.690050  0.797857  0.047699  0.671951  0.217777  0.618294  0.198371   \n",
       "9   0.644915  0.609875  0.919641  0.572903  0.565864  0.964432  0.106922   \n",
       "10  0.289710  0.567188  0.520072  0.941655  0.295082  0.306848  0.271910   \n",
       "\n",
       "           H         I         J  \n",
       "1   0.577352  0.835254  0.624431  \n",
       "2   0.292540  0.460043  0.379872  \n",
       "3   0.713098  0.005080  0.922342  \n",
       "4   0.560987  0.171650  0.679361  \n",
       "5   0.345712  0.444703  0.262998  \n",
       "6   0.000820  0.053233  0.416532  \n",
       "7   0.576625  0.114652  0.453706  \n",
       "8   0.031669  0.698451  0.851870  \n",
       "9   0.129092  0.579990  0.727286  \n",
       "10  0.323640  0.368813  0.493562  "
      ]
     },
     "metadata": {},
     "execution_count": 38
    }
   ],
   "metadata": {}
  },
  {
   "cell_type": "code",
   "execution_count": 8,
   "source": [
    "Tablero_agua = np.full((10,10), \"_\")\n",
    "Tablero_maquina = Tablero_agua\n",
    "Tablero_agua\n",
    "Tablero_jugador = Tablero_agua\n",
    "Tablero_jugador"
   ],
   "outputs": [
    {
     "output_type": "execute_result",
     "data": {
      "text/plain": [
       "array([['_', '_', '_', '_', '_', '_', '_', '_', '_', '_'],\n",
       "       ['_', '_', '_', '_', '_', '_', '_', '_', '_', '_'],\n",
       "       ['_', '_', '_', '_', '_', '_', '_', '_', '_', '_'],\n",
       "       ['_', '_', '_', '_', '_', '_', '_', '_', '_', '_'],\n",
       "       ['_', '_', '_', '_', '_', '_', '_', '_', '_', '_'],\n",
       "       ['_', '_', '_', '_', '_', '_', '_', '_', '_', '_'],\n",
       "       ['_', '_', '_', '_', '_', '_', '_', '_', '_', '_'],\n",
       "       ['_', '_', '_', '_', '_', '_', '_', '_', '_', '_'],\n",
       "       ['_', '_', '_', '_', '_', '_', '_', '_', '_', '_'],\n",
       "       ['_', '_', '_', '_', '_', '_', '_', '_', '_', '_']], dtype='<U1')"
      ]
     },
     "metadata": {},
     "execution_count": 8
    }
   ],
   "metadata": {}
  },
  {
   "cell_type": "code",
   "execution_count": 12,
   "source": [
    "Tablero_maquina[0, 0:4]= \"B\"\n",
    "Tablero_maquina[3:6, 2]= \"B\"\n",
    "Tablero_maquina[3:6, 5]= \"B\"\n",
    "Tablero_maquina[1, 7:9]= \"B\"\n",
    "Tablero_maquina[3, 7:9]= \"B\"\n",
    "Tablero_maquina[9, 1:3]=\"B\"\n",
    "Tablero_maquina[7, 1]= \"B\"\n",
    "Tablero_maquina[7, 4]= \"B\"\n",
    "Tablero_maquina[8, 6]= \"B\"\n",
    "Tablero_maquina[9, 8]= \"B\"\n",
    "Tablero_maquina"
   ],
   "outputs": [
    {
     "output_type": "execute_result",
     "data": {
      "text/plain": [
       "array([['B', 'B', 'B', 'B', '_', 'B', 'B', '_', '_', '_'],\n",
       "       ['_', '_', '_', 'B', '_', '_', '_', 'B', 'B', '_'],\n",
       "       ['_', '_', '_', 'B', '_', 'B', '_', '_', '_', '_'],\n",
       "       ['_', '_', 'B', 'B', '_', 'B', '_', 'B', 'B', '_'],\n",
       "       ['_', '_', 'B', '_', '_', 'B', '_', '_', '_', '_'],\n",
       "       ['B', 'B', 'B', 'B', '_', 'B', '_', '_', '_', '_'],\n",
       "       ['_', '_', '_', '_', '_', '_', '_', '_', '_', '_'],\n",
       "       ['_', 'B', '_', '_', 'B', '_', '_', '_', '_', '_'],\n",
       "       ['_', '_', '_', '_', '_', '_', 'B', '_', '_', '_'],\n",
       "       ['_', 'B', 'B', '_', '_', '_', '_', '_', 'B', '_']], dtype='<U1')"
      ]
     },
     "metadata": {},
     "execution_count": 12
    }
   ],
   "metadata": {}
  },
  {
   "cell_type": "code",
   "execution_count": 9,
   "source": [
    "Tablero_jugador=Tablero_agua\n",
    "Tablero_jugador"
   ],
   "outputs": [
    {
     "output_type": "execute_result",
     "data": {
      "text/plain": [
       "array([['_', '_', '_', '_', '_', '_', '_', '_', '_', '_'],\n",
       "       ['_', '_', '_', '_', '_', '_', '_', '_', '_', '_'],\n",
       "       ['_', '_', '_', '_', '_', '_', '_', '_', '_', '_'],\n",
       "       ['_', '_', '_', '_', '_', '_', '_', '_', '_', '_'],\n",
       "       ['_', '_', '_', '_', '_', '_', '_', '_', '_', '_'],\n",
       "       ['_', '_', '_', '_', '_', '_', '_', '_', '_', '_'],\n",
       "       ['_', '_', '_', '_', '_', '_', '_', '_', '_', '_'],\n",
       "       ['_', '_', '_', '_', '_', '_', '_', '_', '_', '_'],\n",
       "       ['_', '_', '_', '_', '_', '_', '_', '_', '_', '_'],\n",
       "       ['_', '_', '_', '_', '_', '_', '_', '_', '_', '_']], dtype='<U1')"
      ]
     },
     "metadata": {},
     "execution_count": 9
    }
   ],
   "metadata": {}
  },
  {
   "cell_type": "code",
   "execution_count": 10,
   "source": [
    "#Tablero_jugador=Tablero_agua\n",
    "Tablero_jugador[5, 0:4]= \"B\"\n",
    "Tablero_jugador[1:4, 3]= \"B\"\n",
    "Tablero_jugador[2:5, 5]= \"B\"\n",
    "Tablero_jugador[0, 1:3]= \"B\"\n",
    "Tablero_jugador[0, 5:7]=\"B\"\n",
    "Tablero_jugador[9, 1:3]= \"B\"\n",
    "Tablero_jugador[7, 1]= \"B\"\n",
    "Tablero_jugador[7, 4]= \"B\"\n",
    "Tablero_jugador[8, 6]= \"B\"\n",
    "Tablero_jugador[9, 8]= \"B\"\n",
    "Tablero_jugador"
   ],
   "outputs": [
    {
     "output_type": "execute_result",
     "data": {
      "text/plain": [
       "array([['_', 'B', 'B', '_', '_', 'B', 'B', '_', '_', '_'],\n",
       "       ['_', '_', '_', 'B', '_', '_', '_', '_', '_', '_'],\n",
       "       ['_', '_', '_', 'B', '_', 'B', '_', '_', '_', '_'],\n",
       "       ['_', '_', '_', 'B', '_', 'B', '_', '_', '_', '_'],\n",
       "       ['_', '_', '_', '_', '_', 'B', '_', '_', '_', '_'],\n",
       "       ['B', 'B', 'B', 'B', '_', '_', '_', '_', '_', '_'],\n",
       "       ['_', '_', '_', '_', '_', '_', '_', '_', '_', '_'],\n",
       "       ['_', 'B', '_', '_', 'B', '_', '_', '_', '_', '_'],\n",
       "       ['_', '_', '_', '_', '_', '_', 'B', '_', '_', '_'],\n",
       "       ['_', 'B', 'B', '_', '_', '_', '_', '_', 'B', '_']], dtype='<U1')"
      ]
     },
     "metadata": {},
     "execution_count": 10
    }
   ],
   "metadata": {}
  },
  {
   "cell_type": "code",
   "execution_count": 11,
   "source": [
    "Tablero_agua_M = np.full((10,10), \"_\")\n",
    "Tablero_agua_M"
   ],
   "outputs": [
    {
     "output_type": "execute_result",
     "data": {
      "text/plain": [
       "array([['_', '_', '_', '_', '_', '_', '_', '_', '_', '_'],\n",
       "       ['_', '_', '_', '_', '_', '_', '_', '_', '_', '_'],\n",
       "       ['_', '_', '_', '_', '_', '_', '_', '_', '_', '_'],\n",
       "       ['_', '_', '_', '_', '_', '_', '_', '_', '_', '_'],\n",
       "       ['_', '_', '_', '_', '_', '_', '_', '_', '_', '_'],\n",
       "       ['_', '_', '_', '_', '_', '_', '_', '_', '_', '_'],\n",
       "       ['_', '_', '_', '_', '_', '_', '_', '_', '_', '_'],\n",
       "       ['_', '_', '_', '_', '_', '_', '_', '_', '_', '_'],\n",
       "       ['_', '_', '_', '_', '_', '_', '_', '_', '_', '_'],\n",
       "       ['_', '_', '_', '_', '_', '_', '_', '_', '_', '_']], dtype='<U1')"
      ]
     },
     "metadata": {},
     "execution_count": 11
    }
   ],
   "metadata": {}
  },
  {
   "cell_type": "code",
   "execution_count": 42,
   "source": [
    "class Tablero:\n",
    "    dimensiones = (10,10)\n",
    "\n",
    "def __init__(self, disparo):\n",
    "    self.disparo = disparo\n",
    "\n",
    "def acierto(self):\n",
    "    if self(disparo =\n"
   ],
   "outputs": [],
   "metadata": {}
  },
  {
   "cell_type": "code",
   "execution_count": 43,
   "source": [
    "# Tengo que crear barcos \n",
    "\n",
    "#barco_4 = np.array([\"B\",\"B\",\"B\",\"B\"])\n",
    "#barco_3 = np.array([\"B\",\"B\",\"B\"])\n",
    "#barco_2 = np.array([\"B\",\"B\"])\n",
    "#barco_1 = np.array([\"B\"])"
   ],
   "outputs": [],
   "metadata": {}
  },
  {
   "cell_type": "code",
   "execution_count": 16,
   "source": [
    "# Hacer funcion que me indique si he acertado\n",
    "\n",
    "def disparo_jugador():\n",
    "    x=int(input(\"Coordenada X\"))\n",
    "    y=int(input(\"Coordenada Y\"))\n",
    "    if Tablero_maquina[x][y] == \"B\":\n",
    "        True\n",
    "        if True:\n",
    "            Tablero_agua[x][y] == \"X\" & Tablero_maquina[x][y] == \"X\"\n",
    "    while True:\n",
    "        pass\n",
    "    else:\n",
    "        Tablero_agua[x][y] == \"A\"\n",
    "    return Tablero_agua\n",
    "    return Tablero_maquina\n",
    "disparo_jugador()"
   ],
   "outputs": [
    {
     "output_type": "error",
     "ename": "TypeError",
     "evalue": "unsupported operand type(s) for &: 'str' and 'numpy.str_'",
     "traceback": [
      "\u001b[0;31m---------------------------------------------------------------------------\u001b[0m",
      "\u001b[0;31mTypeError\u001b[0m                                 Traceback (most recent call last)",
      "\u001b[0;32m/var/folders/vw/xsl3jt6s4vsgf01j03rl_vkm0000gn/T/ipykernel_2626/789084328.py\u001b[0m in \u001b[0;36m<module>\u001b[0;34m\u001b[0m\n\u001b[1;32m     14\u001b[0m     \u001b[0;32mreturn\u001b[0m \u001b[0mTablero_agua\u001b[0m\u001b[0;34m\u001b[0m\u001b[0;34m\u001b[0m\u001b[0m\n\u001b[1;32m     15\u001b[0m     \u001b[0;32mreturn\u001b[0m \u001b[0mTablero_maquina\u001b[0m\u001b[0;34m\u001b[0m\u001b[0;34m\u001b[0m\u001b[0m\n\u001b[0;32m---> 16\u001b[0;31m \u001b[0mdisparo_jugador\u001b[0m\u001b[0;34m(\u001b[0m\u001b[0;34m)\u001b[0m\u001b[0;34m\u001b[0m\u001b[0;34m\u001b[0m\u001b[0m\n\u001b[0m",
      "\u001b[0;32m/var/folders/vw/xsl3jt6s4vsgf01j03rl_vkm0000gn/T/ipykernel_2626/789084328.py\u001b[0m in \u001b[0;36mdisparo_jugador\u001b[0;34m()\u001b[0m\n\u001b[1;32m      7\u001b[0m         \u001b[0;32mTrue\u001b[0m\u001b[0;34m\u001b[0m\u001b[0;34m\u001b[0m\u001b[0m\n\u001b[1;32m      8\u001b[0m         \u001b[0;32mif\u001b[0m \u001b[0;32mTrue\u001b[0m\u001b[0;34m:\u001b[0m\u001b[0;34m\u001b[0m\u001b[0;34m\u001b[0m\u001b[0m\n\u001b[0;32m----> 9\u001b[0;31m             \u001b[0mTablero_agua\u001b[0m\u001b[0;34m[\u001b[0m\u001b[0mx\u001b[0m\u001b[0;34m]\u001b[0m\u001b[0;34m[\u001b[0m\u001b[0my\u001b[0m\u001b[0;34m]\u001b[0m \u001b[0;34m==\u001b[0m \u001b[0;34m\"X\"\u001b[0m \u001b[0;34m&\u001b[0m \u001b[0mTablero_maquina\u001b[0m\u001b[0;34m[\u001b[0m\u001b[0mx\u001b[0m\u001b[0;34m]\u001b[0m\u001b[0;34m[\u001b[0m\u001b[0my\u001b[0m\u001b[0;34m]\u001b[0m \u001b[0;34m==\u001b[0m \u001b[0;34m\"X\"\u001b[0m\u001b[0;34m\u001b[0m\u001b[0;34m\u001b[0m\u001b[0m\n\u001b[0m\u001b[1;32m     10\u001b[0m     \u001b[0;32mwhile\u001b[0m \u001b[0;32mTrue\u001b[0m\u001b[0;34m:\u001b[0m\u001b[0;34m\u001b[0m\u001b[0;34m\u001b[0m\u001b[0m\n\u001b[1;32m     11\u001b[0m         \u001b[0;32mpass\u001b[0m\u001b[0;34m\u001b[0m\u001b[0;34m\u001b[0m\u001b[0m\n",
      "\u001b[0;31mTypeError\u001b[0m: unsupported operand type(s) for &: 'str' and 'numpy.str_'"
     ]
    }
   ],
   "metadata": {}
  }
 ],
 "metadata": {
  "orig_nbformat": 4,
  "language_info": {
   "name": "python",
   "version": "3.7.4",
   "mimetype": "text/x-python",
   "codemirror_mode": {
    "name": "ipython",
    "version": 3
   },
   "pygments_lexer": "ipython3",
   "nbconvert_exporter": "python",
   "file_extension": ".py"
  },
  "kernelspec": {
   "name": "python3",
   "display_name": "Python 3.7.4 64-bit"
  },
  "interpreter": {
   "hash": "aee8b7b246df8f9039afb4144a1f6fd8d2ca17a180786b69acc140d282b71a49"
  }
 },
 "nbformat": 4,
 "nbformat_minor": 2
}