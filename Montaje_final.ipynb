{
 "cells": [
  {
   "cell_type": "code",
   "execution_count": 2,
   "source": [
    "# Import the necessary libraries\n",
    "import numpy as np\n",
    "from disparos_J import disparos_jugador\n",
    "from disparos_M import disparos_maquina"
   ],
   "outputs": [],
   "metadata": {}
  },
  {
   "cell_type": "markdown",
   "source": [
    "Voy a crear el Tablero_agua, que es visible, donde la máquina sitúa sus barcos. En este caso han sido metidos a mano. En el futuro entrarán los barcos mediante aleatoriamente mediante una función. "
   ],
   "metadata": {}
  },
  {
   "cell_type": "code",
   "execution_count": 3,
   "source": [
    "Tablero_agua = np.full((10,10), \"_\")\n",
    "Tablero_maquina = Tablero_agua\n",
    "Tablero_maquina[0, 0:4]= \"B\"\n",
    "Tablero_maquina[3:6, 2]= \"B\"\n",
    "Tablero_maquina[3:6, 5]= \"B\"\n",
    "Tablero_maquina[1, 7:9]= \"B\"\n",
    "Tablero_maquina[3, 7:9]= \"B\"\n",
    "Tablero_maquina[9, 1:3]=\"B\"\n",
    "Tablero_maquina[7, 1]= \"B\"\n",
    "Tablero_maquina[7, 4]= \"B\"\n",
    "Tablero_maquina[8, 6]= \"B\"\n",
    "Tablero_maquina[9, 8]= \"B\"\n",
    "\n",
    "Tablero_agua = np.full((10,10), \"_\")\n",
    "Tablero_agua_M = Tablero_agua\n",
    "print(Tablero_agua_M)\n",
    "print(\"-------------------------------------------\")\n",
    "#print(Tablero_maquina)"
   ],
   "outputs": [
    {
     "output_type": "stream",
     "name": "stdout",
     "text": [
      "[['_' '_' '_' '_' '_' '_' '_' '_' '_' '_']\n",
      " ['_' '_' '_' '_' '_' '_' '_' '_' '_' '_']\n",
      " ['_' '_' '_' '_' '_' '_' '_' '_' '_' '_']\n",
      " ['_' '_' '_' '_' '_' '_' '_' '_' '_' '_']\n",
      " ['_' '_' '_' '_' '_' '_' '_' '_' '_' '_']\n",
      " ['_' '_' '_' '_' '_' '_' '_' '_' '_' '_']\n",
      " ['_' '_' '_' '_' '_' '_' '_' '_' '_' '_']\n",
      " ['_' '_' '_' '_' '_' '_' '_' '_' '_' '_']\n",
      " ['_' '_' '_' '_' '_' '_' '_' '_' '_' '_']\n",
      " ['_' '_' '_' '_' '_' '_' '_' '_' '_' '_']]\n",
      "-------------------------------------------\n"
     ]
    }
   ],
   "metadata": {}
  },
  {
   "cell_type": "code",
   "execution_count": 4,
   "source": [
    "Tablero_agua = np.full((10,10), \"_\")\n",
    "\n",
    "Tablero_jugador = Tablero_agua\n",
    "Tablero_jugador[5, 0:4]= \"B\"\n",
    "Tablero_jugador[1:4, 3]= \"B\"\n",
    "Tablero_jugador[2:5, 5]= \"B\"\n",
    "Tablero_jugador[0, 1:3]= \"B\"\n",
    "Tablero_jugador[0, 5:7]=\"B\"\n",
    "Tablero_jugador[9, 1:3]= \"B\"\n",
    "Tablero_jugador[7, 1]= \"B\"\n",
    "Tablero_jugador[7, 4]= \"B\"\n",
    "Tablero_jugador[8, 6]= \"B\"\n",
    "Tablero_jugador[9, 8]= \"B\"\n",
    "\n",
    "Tablero_agua = np.full((10,10), \"_\")\n",
    "Tablero_agua_J = Tablero_agua\n",
    "print(Tablero_agua_J)\n",
    "print(\"-------------------------------------------\")\n",
    "print(Tablero_jugador)"
   ],
   "outputs": [
    {
     "output_type": "stream",
     "name": "stdout",
     "text": [
      "[['_' '_' '_' '_' '_' '_' '_' '_' '_' '_']\n",
      " ['_' '_' '_' '_' '_' '_' '_' '_' '_' '_']\n",
      " ['_' '_' '_' '_' '_' '_' '_' '_' '_' '_']\n",
      " ['_' '_' '_' '_' '_' '_' '_' '_' '_' '_']\n",
      " ['_' '_' '_' '_' '_' '_' '_' '_' '_' '_']\n",
      " ['_' '_' '_' '_' '_' '_' '_' '_' '_' '_']\n",
      " ['_' '_' '_' '_' '_' '_' '_' '_' '_' '_']\n",
      " ['_' '_' '_' '_' '_' '_' '_' '_' '_' '_']\n",
      " ['_' '_' '_' '_' '_' '_' '_' '_' '_' '_']\n",
      " ['_' '_' '_' '_' '_' '_' '_' '_' '_' '_']]\n",
      "-------------------------------------------\n",
      "[['_' 'B' 'B' '_' '_' 'B' 'B' '_' '_' '_']\n",
      " ['_' '_' '_' 'B' '_' '_' '_' '_' '_' '_']\n",
      " ['_' '_' '_' 'B' '_' 'B' '_' '_' '_' '_']\n",
      " ['_' '_' '_' 'B' '_' 'B' '_' '_' '_' '_']\n",
      " ['_' '_' '_' '_' '_' 'B' '_' '_' '_' '_']\n",
      " ['B' 'B' 'B' 'B' '_' '_' '_' '_' '_' '_']\n",
      " ['_' '_' '_' '_' '_' '_' '_' '_' '_' '_']\n",
      " ['_' 'B' '_' '_' 'B' '_' '_' '_' '_' '_']\n",
      " ['_' '_' '_' '_' '_' '_' 'B' '_' '_' '_']\n",
      " ['_' 'B' 'B' '_' '_' '_' '_' '_' 'B' '_']]\n"
     ]
    }
   ],
   "metadata": {}
  },
  {
   "cell_type": "markdown",
   "source": [
    "Ahora montamos las funciones de disparos de jugador y de la máquina"
   ],
   "metadata": {}
  },
  {
   "cell_type": "markdown",
   "source": [
    "Construimos una función que dirija los turnos del juego y cuando transcurran 20 tiradas finaliza el juego."
   ],
   "metadata": {}
  },
  {
   "cell_type": "code",
   "execution_count": 5,
   "source": [
    "contador = 0\n",
    "while contador < 2:\n",
    "    disparos_jugador()\n",
    "    contador += contador\n",
    "    disparos_maquina()\n",
    "    contador += contador\n",
    "print(\"FIN\")    "
   ],
   "outputs": [
    {
     "output_type": "error",
     "ename": "NameError",
     "evalue": "name 'Tablero_maquina' is not defined",
     "traceback": [
      "\u001b[0;31m---------------------------------------------------------------------------\u001b[0m",
      "\u001b[0;31mNameError\u001b[0m                                 Traceback (most recent call last)",
      "\u001b[0;32m/var/folders/vw/xsl3jt6s4vsgf01j03rl_vkm0000gn/T/ipykernel_9035/335881944.py\u001b[0m in \u001b[0;36m<module>\u001b[0;34m\u001b[0m\n\u001b[1;32m      1\u001b[0m \u001b[0mcontador\u001b[0m \u001b[0;34m=\u001b[0m \u001b[0;36m0\u001b[0m\u001b[0;34m\u001b[0m\u001b[0;34m\u001b[0m\u001b[0m\n\u001b[1;32m      2\u001b[0m \u001b[0;32mwhile\u001b[0m \u001b[0mcontador\u001b[0m \u001b[0;34m<\u001b[0m \u001b[0;36m2\u001b[0m\u001b[0;34m:\u001b[0m\u001b[0;34m\u001b[0m\u001b[0;34m\u001b[0m\u001b[0m\n\u001b[0;32m----> 3\u001b[0;31m     \u001b[0mdisparos_jugador\u001b[0m\u001b[0;34m(\u001b[0m\u001b[0;34m)\u001b[0m\u001b[0;34m\u001b[0m\u001b[0;34m\u001b[0m\u001b[0m\n\u001b[0m\u001b[1;32m      4\u001b[0m     \u001b[0mcontador\u001b[0m \u001b[0;34m+=\u001b[0m \u001b[0mcontador\u001b[0m\u001b[0;34m\u001b[0m\u001b[0;34m\u001b[0m\u001b[0m\n\u001b[1;32m      5\u001b[0m     \u001b[0mdisparos_maquina\u001b[0m\u001b[0;34m(\u001b[0m\u001b[0;34m)\u001b[0m\u001b[0;34m\u001b[0m\u001b[0;34m\u001b[0m\u001b[0m\n",
      "\u001b[0;32m~/Documents/The_Bridge/Alumno_Folder/Alumno_Curso/datascience_thebridge_9_21/2-Data_analysis/entregas/Hundir la flota/disparos_J.py\u001b[0m in \u001b[0;36mdisparos_jugador\u001b[0;34m()\u001b[0m\n\u001b[1;32m      5\u001b[0m         \u001b[0my\u001b[0m\u001b[0;34m=\u001b[0m\u001b[0mint\u001b[0m\u001b[0;34m(\u001b[0m\u001b[0minput\u001b[0m\u001b[0;34m(\u001b[0m\u001b[0;34m\"Coordenada Y\"\u001b[0m\u001b[0;34m)\u001b[0m\u001b[0;34m)\u001b[0m\u001b[0;34m\u001b[0m\u001b[0;34m\u001b[0m\u001b[0m\n\u001b[1;32m      6\u001b[0m \u001b[0;34m\u001b[0m\u001b[0m\n\u001b[0;32m----> 7\u001b[0;31m         \u001b[0;32mif\u001b[0m \u001b[0mTablero_maquina\u001b[0m\u001b[0;34m[\u001b[0m\u001b[0mx\u001b[0m\u001b[0;34m]\u001b[0m\u001b[0;34m[\u001b[0m\u001b[0my\u001b[0m\u001b[0;34m]\u001b[0m \u001b[0;34m==\u001b[0m \u001b[0;34m\"B\"\u001b[0m\u001b[0;34m:\u001b[0m\u001b[0;34m\u001b[0m\u001b[0;34m\u001b[0m\u001b[0m\n\u001b[0m\u001b[1;32m      8\u001b[0m             \u001b[0mTablero_agua_J\u001b[0m\u001b[0;34m[\u001b[0m\u001b[0mx\u001b[0m\u001b[0;34m]\u001b[0m\u001b[0;34m[\u001b[0m\u001b[0my\u001b[0m\u001b[0;34m]\u001b[0m \u001b[0;34m=\u001b[0m \u001b[0;34m\"X\"\u001b[0m\u001b[0;34m\u001b[0m\u001b[0;34m\u001b[0m\u001b[0m\n\u001b[1;32m      9\u001b[0m             \u001b[0mTablero_maquina\u001b[0m\u001b[0;34m[\u001b[0m\u001b[0mx\u001b[0m\u001b[0;34m]\u001b[0m\u001b[0;34m[\u001b[0m\u001b[0my\u001b[0m\u001b[0;34m]\u001b[0m \u001b[0;34m=\u001b[0m \u001b[0;34m\"X\"\u001b[0m\u001b[0;34m\u001b[0m\u001b[0;34m\u001b[0m\u001b[0m\n",
      "\u001b[0;31mNameError\u001b[0m: name 'Tablero_maquina' is not defined"
     ]
    }
   ],
   "metadata": {}
  }
 ],
 "metadata": {
  "orig_nbformat": 4,
  "language_info": {
   "name": "python",
   "version": "3.7.4",
   "mimetype": "text/x-python",
   "codemirror_mode": {
    "name": "ipython",
    "version": 3
   },
   "pygments_lexer": "ipython3",
   "nbconvert_exporter": "python",
   "file_extension": ".py"
  },
  "kernelspec": {
   "name": "python3",
   "display_name": "Python 3.7.4 64-bit"
  },
  "interpreter": {
   "hash": "aee8b7b246df8f9039afb4144a1f6fd8d2ca17a180786b69acc140d282b71a49"
  }
 },
 "nbformat": 4,
 "nbformat_minor": 2
}