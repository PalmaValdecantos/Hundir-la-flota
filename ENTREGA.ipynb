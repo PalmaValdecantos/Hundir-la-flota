{
 "cells": [
  {
   "cell_type": "code",
   "execution_count": 1,
   "source": [
    "# Import the necessary libraries\n",
    "import numpy as np"
   ],
   "outputs": [],
   "metadata": {}
  },
  {
   "cell_type": "markdown",
   "source": [
    "Voy a crear el Tablero_agua, que es visible, donde la máquina sitúa sus barcos. En este caso han sido metidos a mano. En el futuro entrarán los barcos mediante aleatoriamente mediante una función. "
   ],
   "metadata": {}
  },
  {
   "cell_type": "code",
   "execution_count": 2,
   "source": [
    "Tablero_agua = np.full((10,10), \"_\")\n",
    "Tablero_maquina = Tablero_agua\n",
    "Tablero_maquina[0, 0:4]= \"B\"\n",
    "Tablero_maquina[3:6, 2]= \"B\"\n",
    "Tablero_maquina[3:6, 5]= \"B\"\n",
    "Tablero_maquina[1, 7:9]= \"B\"\n",
    "Tablero_maquina[3, 7:9]= \"B\"\n",
    "Tablero_maquina[9, 1:3]=\"B\"\n",
    "Tablero_maquina[7, 1]= \"B\"\n",
    "Tablero_maquina[7, 4]= \"B\"\n",
    "Tablero_maquina[8, 6]= \"B\"\n",
    "Tablero_maquina[9, 8]= \"B\"\n",
    "\n",
    "Tablero_agua = np.full((10,10), \"_\")\n",
    "Tablero_agua_M = Tablero_agua\n",
    "print(Tablero_agua_M)\n",
    "print(\"-------------------------------------------\")\n",
    "#print(Tablero_maquina)"
   ],
   "outputs": [
    {
     "output_type": "stream",
     "name": "stdout",
     "text": [
      "[['_' '_' '_' '_' '_' '_' '_' '_' '_' '_']\n",
      " ['_' '_' '_' '_' '_' '_' '_' '_' '_' '_']\n",
      " ['_' '_' '_' '_' '_' '_' '_' '_' '_' '_']\n",
      " ['_' '_' '_' '_' '_' '_' '_' '_' '_' '_']\n",
      " ['_' '_' '_' '_' '_' '_' '_' '_' '_' '_']\n",
      " ['_' '_' '_' '_' '_' '_' '_' '_' '_' '_']\n",
      " ['_' '_' '_' '_' '_' '_' '_' '_' '_' '_']\n",
      " ['_' '_' '_' '_' '_' '_' '_' '_' '_' '_']\n",
      " ['_' '_' '_' '_' '_' '_' '_' '_' '_' '_']\n",
      " ['_' '_' '_' '_' '_' '_' '_' '_' '_' '_']]\n",
      "-------------------------------------------\n"
     ]
    }
   ],
   "metadata": {}
  },
  {
   "cell_type": "code",
   "execution_count": 3,
   "source": [
    "Tablero_agua = np.full((10,10), \"_\")\n",
    "\n",
    "Tablero_jugador = Tablero_agua\n",
    "Tablero_jugador[5, 0:4]= \"B\"\n",
    "Tablero_jugador[1:4, 3]= \"B\"\n",
    "Tablero_jugador[2:5, 5]= \"B\"\n",
    "Tablero_jugador[0, 1:3]= \"B\"\n",
    "Tablero_jugador[0, 5:7]=\"B\"\n",
    "Tablero_jugador[9, 1:3]= \"B\"\n",
    "Tablero_jugador[7, 1]= \"B\"\n",
    "Tablero_jugador[7, 4]= \"B\"\n",
    "Tablero_jugador[8, 6]= \"B\"\n",
    "Tablero_jugador[9, 8]= \"B\"\n",
    "\n",
    "Tablero_agua = np.full((10,10), \"_\")\n",
    "Tablero_agua_J = Tablero_agua\n",
    "print(Tablero_agua_J)\n",
    "print(\"-------------------------------------------\")\n",
    "print(Tablero_jugador)"
   ],
   "outputs": [
    {
     "output_type": "stream",
     "name": "stdout",
     "text": [
      "[['_' '_' '_' '_' '_' '_' '_' '_' '_' '_']\n",
      " ['_' '_' '_' '_' '_' '_' '_' '_' '_' '_']\n",
      " ['_' '_' '_' '_' '_' '_' '_' '_' '_' '_']\n",
      " ['_' '_' '_' '_' '_' '_' '_' '_' '_' '_']\n",
      " ['_' '_' '_' '_' '_' '_' '_' '_' '_' '_']\n",
      " ['_' '_' '_' '_' '_' '_' '_' '_' '_' '_']\n",
      " ['_' '_' '_' '_' '_' '_' '_' '_' '_' '_']\n",
      " ['_' '_' '_' '_' '_' '_' '_' '_' '_' '_']\n",
      " ['_' '_' '_' '_' '_' '_' '_' '_' '_' '_']\n",
      " ['_' '_' '_' '_' '_' '_' '_' '_' '_' '_']]\n",
      "-------------------------------------------\n",
      "[['_' 'B' 'B' '_' '_' 'B' 'B' '_' '_' '_']\n",
      " ['_' '_' '_' 'B' '_' '_' '_' '_' '_' '_']\n",
      " ['_' '_' '_' 'B' '_' 'B' '_' '_' '_' '_']\n",
      " ['_' '_' '_' 'B' '_' 'B' '_' '_' '_' '_']\n",
      " ['_' '_' '_' '_' '_' 'B' '_' '_' '_' '_']\n",
      " ['B' 'B' 'B' 'B' '_' '_' '_' '_' '_' '_']\n",
      " ['_' '_' '_' '_' '_' '_' '_' '_' '_' '_']\n",
      " ['_' 'B' '_' '_' 'B' '_' '_' '_' '_' '_']\n",
      " ['_' '_' '_' '_' '_' '_' 'B' '_' '_' '_']\n",
      " ['_' 'B' 'B' '_' '_' '_' '_' '_' 'B' '_']]\n"
     ]
    }
   ],
   "metadata": {}
  },
  {
   "cell_type": "markdown",
   "source": [],
   "metadata": {}
  },
  {
   "cell_type": "markdown",
   "source": [],
   "metadata": {}
  },
  {
   "cell_type": "code",
   "execution_count": 4,
   "source": [
    "Ahora montamos las funciones de disparos de jugador y de la máquina"
   ],
   "outputs": [],
   "metadata": {}
  },
  {
   "cell_type": "code",
   "execution_count": 5,
   "source": [
    "def disparos_maquina():\n",
    "    bandera = True\n",
    "    while bandera:\n",
    "        x = np.random.randint(10)\n",
    "        y = np.random.randint(10)\n",
    "    \n",
    "        if Tablero_jugador[x][y] == \"B\":\n",
    "            Tablero_agua_M[x][y] = \"X\"\n",
    "            Tablero_jugador[x][y] = \"X\"\n",
    "            print(\"Tablero_agua_Máquina\")\n",
    "            print(Tablero_agua_M)\n",
    "            print(\"-------------------------------------------\")\n",
    "        elif Tablero_jugador[x][y] == \"X\" or Tablero_jugador[x][y] == \"A\":\n",
    "            print(\"Esta coordenada ya está usada, pierdes turno\")\n",
    "            bandera = False\n",
    "        else: \n",
    "            Tablero_agua_M[x][y] = \"A\"\n",
    "            print(\"Tablero_agua_Máquina\") \n",
    "            print(Tablero_agua_M)\n",
    "            bandera = False"
   ],
   "outputs": [],
   "metadata": {}
  },
  {
   "cell_type": "markdown",
   "source": [
    "Construimos una función que dirija los turnos del juego y cuando transcurran 3 rondas de tiradas finaliza el juego y se muestran los tableros completos del jugador y la máquina."
   ],
   "metadata": {}
  },
  {
   "cell_type": "code",
   "execution_count": 10,
   "source": [
    "def partida():\n",
    "    contador = 0\n",
    "    while contador < 3:\n",
    "        disparos_jugador()\n",
    "        disparos_maquina()\n",
    "        contador = contador + 1\n",
    "    print(\"fin de la partida\")\n",
    "partida()\n",
    "print(\"                                           \")\n",
    "print(\"                                           \")\n",
    "print(\"                                           \")\n",
    "print(\"El tabalero del jugador quedó así:\")\n",
    "print(Tablero_agua_J)\n",
    "print(\"-------------------------------------------\")\n",
    "print(Tablero_jugador)\n",
    "print(\"                                           \")\n",
    "print(\"                                           \")\n",
    "print(\"<>v<>v<>v<>v<>v<>v<>v<>v<>v<>v<>v<>v<>v<>v<>\")\n",
    "print(\"                                           \")\n",
    "print(\"                                           \")\n",
    "print(\"El tabalero de la máquina quedó así:\")\n",
    "print(Tablero_agua_M)\n",
    "print(\"-------------------------------------------\")\n",
    "print(Tablero_maquina)"
   ],
   "outputs": [
    {
     "output_type": "stream",
     "name": "stdout",
     "text": [
      "Esta coordenada ya está usada, pierdes turno\n",
      "Esta coordenada ya está usada, pierdes turno\n",
      "Tablero_agua_Jugador\n",
      "[['X' 'X' 'X' '_' '_' '_' 'A' 'A' 'A' '_']\n",
      " ['_' '_' '_' '_' '_' '_' '_' '_' '_' '_']\n",
      " ['_' '_' 'A' '_' '_' '_' '_' '_' '_' '_']\n",
      " ['_' '_' '_' 'A' '_' '_' '_' 'X' '_' '_']\n",
      " ['_' 'A' 'X' '_' '_' '_' '_' '_' '_' '_']\n",
      " ['_' '_' '_' '_' '_' '_' '_' '_' '_' '_']\n",
      " ['_' '_' 'A' '_' '_' '_' 'A' '_' '_' '_']\n",
      " ['_' '_' '_' '_' '_' '_' '_' '_' '_' '_']\n",
      " ['_' '_' '_' '_' '_' '_' '_' '_' '_' '_']\n",
      " ['_' '_' '_' '_' '_' '_' 'A' '_' '_' '_']]\n",
      "-------------------------------------------\n",
      "Tablero_agua_Jugador\n",
      "[['X' 'X' 'X' 'X' '_' '_' 'A' 'A' 'A' '_']\n",
      " ['_' '_' '_' '_' '_' '_' '_' '_' '_' '_']\n",
      " ['_' '_' 'A' '_' '_' '_' '_' '_' '_' '_']\n",
      " ['_' '_' '_' 'A' '_' '_' '_' 'X' '_' '_']\n",
      " ['_' 'A' 'X' '_' '_' '_' '_' '_' '_' '_']\n",
      " ['_' '_' '_' '_' '_' '_' '_' '_' '_' '_']\n",
      " ['_' '_' 'A' '_' '_' '_' 'A' '_' '_' '_']\n",
      " ['_' '_' '_' '_' '_' '_' '_' '_' '_' '_']\n",
      " ['_' '_' '_' '_' '_' '_' '_' '_' '_' '_']\n",
      " ['_' '_' '_' '_' '_' '_' 'A' '_' '_' '_']]\n",
      "-------------------------------------------\n",
      "Tablero_agua_Jugador\n",
      "[['X' 'X' 'X' 'X' 'A' '_' 'A' 'A' 'A' '_']\n",
      " ['_' '_' '_' '_' '_' '_' '_' '_' '_' '_']\n",
      " ['_' '_' 'A' '_' '_' '_' '_' '_' '_' '_']\n",
      " ['_' '_' '_' 'A' '_' '_' '_' 'X' '_' '_']\n",
      " ['_' 'A' 'X' '_' '_' '_' '_' '_' '_' '_']\n",
      " ['_' '_' '_' '_' '_' '_' '_' '_' '_' '_']\n",
      " ['_' '_' 'A' '_' '_' '_' 'A' '_' '_' '_']\n",
      " ['_' '_' '_' '_' '_' '_' '_' '_' '_' '_']\n",
      " ['_' '_' '_' '_' '_' '_' '_' '_' '_' '_']\n",
      " ['_' '_' '_' '_' '_' '_' 'A' '_' '_' '_']]\n",
      "fin de la partida\n",
      "                                           \n",
      "                                           \n",
      "                                           \n",
      "El tabalero del jugador quedó así:\n",
      "[['X' 'X' 'X' 'X' 'A' '_' 'A' 'A' 'A' '_']\n",
      " ['_' '_' '_' '_' '_' '_' '_' '_' '_' '_']\n",
      " ['_' '_' 'A' '_' '_' '_' '_' '_' '_' '_']\n",
      " ['_' '_' '_' 'A' '_' '_' '_' 'X' '_' '_']\n",
      " ['_' 'A' 'X' '_' '_' '_' '_' '_' '_' '_']\n",
      " ['_' '_' '_' '_' '_' '_' '_' '_' '_' '_']\n",
      " ['_' '_' 'A' '_' '_' '_' 'A' '_' '_' '_']\n",
      " ['_' '_' '_' '_' '_' '_' '_' '_' '_' '_']\n",
      " ['_' '_' '_' '_' '_' '_' '_' '_' '_' '_']\n",
      " ['_' '_' '_' '_' '_' '_' 'A' '_' '_' '_']]\n",
      "-------------------------------------------\n",
      "[['_' 'B' 'B' '_' '_' 'B' 'B' '_' '_' '_']\n",
      " ['_' '_' '_' 'X' '_' '_' '_' '_' '_' '_']\n",
      " ['_' '_' '_' 'B' '_' 'B' '_' '_' '_' '_']\n",
      " ['_' '_' '_' 'B' '_' 'B' '_' '_' '_' '_']\n",
      " ['_' '_' '_' '_' '_' 'X' '_' '_' '_' '_']\n",
      " ['B' 'B' 'B' 'B' '_' '_' '_' '_' '_' '_']\n",
      " ['_' '_' '_' '_' '_' '_' '_' '_' '_' '_']\n",
      " ['_' 'B' '_' '_' 'B' '_' '_' '_' '_' '_']\n",
      " ['_' '_' '_' '_' '_' '_' 'B' '_' '_' '_']\n",
      " ['_' 'B' 'B' '_' '_' '_' '_' '_' 'B' '_']]\n",
      "                                           \n",
      "                                           \n",
      "<>v<>v<>v<>v<>v<>v<>v<>v<>v<>v<>v<>v<>v<>v<>\n",
      "                                           \n",
      "                                           \n",
      "El tabalero de la máquina quedó así:\n",
      "[['_' '_' '_' '_' '_' '_' '_' '_' '_' '_']\n",
      " ['A' '_' '_' 'X' '_' '_' '_' '_' '_' '_']\n",
      " ['_' '_' '_' '_' '_' '_' '_' 'A' '_' '_']\n",
      " ['_' 'A' '_' '_' 'A' '_' '_' '_' '_' '_']\n",
      " ['_' '_' '_' '_' '_' 'X' '_' '_' '_' '_']\n",
      " ['_' '_' '_' '_' '_' '_' '_' '_' '_' '_']\n",
      " ['_' '_' '_' '_' 'A' '_' '_' 'A' '_' '_']\n",
      " ['_' '_' '_' '_' '_' 'A' '_' '_' '_' '_']\n",
      " ['_' '_' '_' '_' '_' '_' '_' 'A' '_' '_']\n",
      " ['_' '_' '_' '_' '_' '_' '_' '_' '_' 'A']]\n",
      "-------------------------------------------\n",
      "[['X' 'X' 'X' 'X' '_' '_' '_' '_' '_' '_']\n",
      " ['_' '_' '_' '_' '_' '_' '_' 'B' 'B' '_']\n",
      " ['_' '_' '_' '_' '_' '_' '_' '_' '_' '_']\n",
      " ['_' '_' 'B' '_' '_' 'B' '_' 'X' 'B' '_']\n",
      " ['_' '_' 'X' '_' '_' 'B' '_' '_' '_' '_']\n",
      " ['_' '_' 'B' '_' '_' 'B' '_' '_' '_' '_']\n",
      " ['_' '_' '_' '_' '_' '_' '_' '_' '_' '_']\n",
      " ['_' 'B' '_' '_' 'B' '_' '_' '_' '_' '_']\n",
      " ['_' '_' '_' '_' '_' '_' 'B' '_' '_' '_']\n",
      " ['_' 'B' 'B' '_' '_' '_' '_' '_' 'B' '_']]\n"
     ]
    }
   ],
   "metadata": {}
  }
 ],
 "metadata": {
  "orig_nbformat": 4,
  "language_info": {
   "name": "python",
   "version": "3.7.4",
   "mimetype": "text/x-python",
   "codemirror_mode": {
    "name": "ipython",
    "version": 3
   },
   "pygments_lexer": "ipython3",
   "nbconvert_exporter": "python",
   "file_extension": ".py"
  },
  "kernelspec": {
   "name": "python3",
   "display_name": "Python 3.7.4 64-bit"
  },
  "interpreter": {
   "hash": "aee8b7b246df8f9039afb4144a1f6fd8d2ca17a180786b69acc140d282b71a49"
  }
 },
 "nbformat": 4,
 "nbformat_minor": 2
}