{
 "cells": [
  {
   "cell_type": "code",
   "execution_count": 3,
   "source": [
    "import numpy as np"
   ],
   "outputs": [],
   "metadata": {}
  },
  {
   "cell_type": "code",
   "execution_count": 4,
   "source": [
    "Tablero_agua = np.full((10,10), \"_\")\n",
    "\n",
    "Tablero_maquina = Tablero_agua\n",
    "Tablero_maquina[0, 0:4]= \"B\"\n",
    "Tablero_maquina[3:6, 2]= \"B\"\n",
    "Tablero_maquina[3:6, 5]= \"B\"\n",
    "Tablero_maquina[1, 7:9]= \"B\"\n",
    "Tablero_maquina[3, 7:9]= \"B\"\n",
    "Tablero_maquina[9, 1:3]=\"B\"\n",
    "Tablero_maquina[7, 1]= \"B\"\n",
    "Tablero_maquina[7, 4]= \"B\"\n",
    "Tablero_maquina[8, 6]= \"B\"\n",
    "Tablero_maquina[9, 8]= \"B\"\n",
    "\n",
    "Tablero_agua = np.full((10,10), \"_\")\n",
    "Tablero_agua_M = Tablero_agua\n",
    "print(Tablero_agua_M)\n",
    "print(\"-------------------------------------------\")\n",
    "print(Tablero_maquina)\n"
   ],
   "outputs": [
    {
     "output_type": "stream",
     "name": "stdout",
     "text": [
      "[['_' '_' '_' '_' '_' '_' '_' '_' '_' '_']\n",
      " ['_' '_' '_' '_' '_' '_' '_' '_' '_' '_']\n",
      " ['_' '_' '_' '_' '_' '_' '_' '_' '_' '_']\n",
      " ['_' '_' '_' '_' '_' '_' '_' '_' '_' '_']\n",
      " ['_' '_' '_' '_' '_' '_' '_' '_' '_' '_']\n",
      " ['_' '_' '_' '_' '_' '_' '_' '_' '_' '_']\n",
      " ['_' '_' '_' '_' '_' '_' '_' '_' '_' '_']\n",
      " ['_' '_' '_' '_' '_' '_' '_' '_' '_' '_']\n",
      " ['_' '_' '_' '_' '_' '_' '_' '_' '_' '_']\n",
      " ['_' '_' '_' '_' '_' '_' '_' '_' '_' '_']]\n",
      "-------------------------------------------\n",
      "[['B' 'B' 'B' 'B' '_' '_' '_' '_' '_' '_']\n",
      " ['_' '_' '_' '_' '_' '_' '_' 'B' 'B' '_']\n",
      " ['_' '_' '_' '_' '_' '_' '_' '_' '_' '_']\n",
      " ['_' '_' 'B' '_' '_' 'B' '_' 'B' 'B' '_']\n",
      " ['_' '_' 'B' '_' '_' 'B' '_' '_' '_' '_']\n",
      " ['_' '_' 'B' '_' '_' 'B' '_' '_' '_' '_']\n",
      " ['_' '_' '_' '_' '_' '_' '_' '_' '_' '_']\n",
      " ['_' 'B' '_' '_' 'B' '_' '_' '_' '_' '_']\n",
      " ['_' '_' '_' '_' '_' '_' 'B' '_' '_' '_']\n",
      " ['_' 'B' 'B' '_' '_' '_' '_' '_' 'B' '_']]\n"
     ]
    }
   ],
   "metadata": {}
  },
  {
   "cell_type": "code",
   "execution_count": 5,
   "source": [
    "Tablero_agua = np.full((10,10), \"_\")\n",
    "\n",
    "Tablero_jugador=Tablero_agua\n",
    "Tablero_jugador[5, 0:4]= \"B\"\n",
    "Tablero_jugador[1:4, 3]= \"B\"\n",
    "Tablero_jugador[2:5, 5]= \"B\"\n",
    "Tablero_jugador[0, 1:3]= \"B\"\n",
    "Tablero_jugador[0, 5:7]=\"B\"\n",
    "Tablero_jugador[9, 1:3]= \"B\"\n",
    "Tablero_jugador[7, 1]= \"B\"\n",
    "Tablero_jugador[7, 4]= \"B\"\n",
    "Tablero_jugador[8, 6]= \"B\"\n",
    "Tablero_jugador[9, 8]= \"B\"\n",
    "\n",
    "Tablero_agua = np.full((10,10), \"_\")\n",
    "Tablero_agua_J = Tablero_agua\n",
    "print(Tablero_agua_J)\n",
    "print(\"-------------------------------------------\")\n",
    "print(Tablero_jugador)"
   ],
   "outputs": [
    {
     "output_type": "stream",
     "name": "stdout",
     "text": [
      "[['_' '_' '_' '_' '_' '_' '_' '_' '_' '_']\n",
      " ['_' '_' '_' '_' '_' '_' '_' '_' '_' '_']\n",
      " ['_' '_' '_' '_' '_' '_' '_' '_' '_' '_']\n",
      " ['_' '_' '_' '_' '_' '_' '_' '_' '_' '_']\n",
      " ['_' '_' '_' '_' '_' '_' '_' '_' '_' '_']\n",
      " ['_' '_' '_' '_' '_' '_' '_' '_' '_' '_']\n",
      " ['_' '_' '_' '_' '_' '_' '_' '_' '_' '_']\n",
      " ['_' '_' '_' '_' '_' '_' '_' '_' '_' '_']\n",
      " ['_' '_' '_' '_' '_' '_' '_' '_' '_' '_']\n",
      " ['_' '_' '_' '_' '_' '_' '_' '_' '_' '_']]\n",
      "-------------------------------------------\n",
      "[['_' 'B' 'B' '_' '_' 'B' 'B' '_' '_' '_']\n",
      " ['_' '_' '_' 'B' '_' '_' '_' '_' '_' '_']\n",
      " ['_' '_' '_' 'B' '_' 'B' '_' '_' '_' '_']\n",
      " ['_' '_' '_' 'B' '_' 'B' '_' '_' '_' '_']\n",
      " ['_' '_' '_' '_' '_' 'B' '_' '_' '_' '_']\n",
      " ['B' 'B' 'B' 'B' '_' '_' '_' '_' '_' '_']\n",
      " ['_' '_' '_' '_' '_' '_' '_' '_' '_' '_']\n",
      " ['_' 'B' '_' '_' 'B' '_' '_' '_' '_' '_']\n",
      " ['_' '_' '_' '_' '_' '_' 'B' '_' '_' '_']\n",
      " ['_' 'B' 'B' '_' '_' '_' '_' '_' 'B' '_']]\n"
     ]
    }
   ],
   "metadata": {}
  },
  {
   "cell_type": "code",
   "execution_count": 6,
   "source": [
    "#def disparo_jugador(x, y):\n",
    "    #if Tablero_maquina[x][y] == \"B\":\n",
    "        #True\n",
    "        #if True:\n",
    "            #Tablero_agua_M[x][y] == \"X\" and Tablero_maquina[x][y] == \"X\"\n",
    "        #print(Tablero_agua)\n",
    "        #print(Tablero_maquina)\n",
    "        #while True:\n",
    "            #pass\n",
    "    #if Tablero_maquina[x][y] != \"B\":\n",
    "        #Tablero_agua_M[x][y] == \"A\"\n",
    "    #return Tablero_agua_M\n",
    "    #return Tablero_maquina\n",
    "#disparo_jugador( x=int(input(\"Coordenada X\")), y=int(input(\"Coordenada Y\")))\n",
    "\n",
    "#AQUÍ SI ACIERTAS SE HACE PASA ARRIBA PERO NO PUEDES METER MÁS INPUTS ASÍ QUE SE HACE INFINITO"
   ],
   "outputs": [],
   "metadata": {}
  },
  {
   "cell_type": "code",
   "execution_count": 1,
   "source": [
    "def disparo_jugador():\n",
    "    x=int(input(\"Coordenada X\"))\n",
    "    y=int(input(\"Coordenada Y\"))\n",
    "    if Tablero_maquina[x][y] == \"B\":\n",
    "        True\n",
    "        if True:\n",
    "            Tablero_agua_J[x][y] = \"X\"\n",
    "            Tablero_maquina[x][y] = \"X\"\n",
    "        return Tablero_agua_J\n",
    "        return Tablero_maquina\n",
    "        while True:\n",
    "            pass\n",
    "    else:\n",
    "        Tablero_agua_J[x][y] = \"A\"\n",
    "    return Tablero_agua_J\n",
    "disparo_jugador()\n",
    "\n",
    "#AQUÍ NO PUEDO PONER MÁS DE 1 RETURN\n"
   ],
   "outputs": [
    {
     "output_type": "error",
     "ename": "KeyboardInterrupt",
     "evalue": "Interrupted by user",
     "traceback": [
      "\u001b[0;31m---------------------------------------------------------------------------\u001b[0m",
      "\u001b[0;31mKeyboardInterrupt\u001b[0m                         Traceback (most recent call last)",
      "\u001b[0;32m/var/folders/vw/xsl3jt6s4vsgf01j03rl_vkm0000gn/T/ipykernel_683/111868380.py\u001b[0m in \u001b[0;36m<module>\u001b[0;34m\u001b[0m\n\u001b[1;32m     14\u001b[0m         \u001b[0mTablero_agua_J\u001b[0m\u001b[0;34m[\u001b[0m\u001b[0mx\u001b[0m\u001b[0;34m]\u001b[0m\u001b[0;34m[\u001b[0m\u001b[0my\u001b[0m\u001b[0;34m]\u001b[0m \u001b[0;34m=\u001b[0m \u001b[0;34m\"A\"\u001b[0m\u001b[0;34m\u001b[0m\u001b[0;34m\u001b[0m\u001b[0m\n\u001b[1;32m     15\u001b[0m     \u001b[0;32mreturn\u001b[0m \u001b[0mTablero_agua_J\u001b[0m\u001b[0;34m\u001b[0m\u001b[0;34m\u001b[0m\u001b[0m\n\u001b[0;32m---> 16\u001b[0;31m \u001b[0mdisparo_jugador\u001b[0m\u001b[0;34m(\u001b[0m\u001b[0;34m)\u001b[0m\u001b[0;34m\u001b[0m\u001b[0;34m\u001b[0m\u001b[0m\n\u001b[0m\u001b[1;32m     17\u001b[0m \u001b[0;34m\u001b[0m\u001b[0m\n\u001b[1;32m     18\u001b[0m \u001b[0;31m#AQUÍ NO PUEDO PONER MÁS DE 1 RETURN\u001b[0m\u001b[0;34m\u001b[0m\u001b[0;34m\u001b[0m\u001b[0;34m\u001b[0m\u001b[0m\n",
      "\u001b[0;32m/var/folders/vw/xsl3jt6s4vsgf01j03rl_vkm0000gn/T/ipykernel_683/111868380.py\u001b[0m in \u001b[0;36mdisparo_jugador\u001b[0;34m()\u001b[0m\n\u001b[1;32m      1\u001b[0m \u001b[0;32mdef\u001b[0m \u001b[0mdisparo_jugador\u001b[0m\u001b[0;34m(\u001b[0m\u001b[0;34m)\u001b[0m\u001b[0;34m:\u001b[0m\u001b[0;34m\u001b[0m\u001b[0;34m\u001b[0m\u001b[0m\n\u001b[1;32m      2\u001b[0m     \u001b[0mx\u001b[0m\u001b[0;34m=\u001b[0m\u001b[0mint\u001b[0m\u001b[0;34m(\u001b[0m\u001b[0minput\u001b[0m\u001b[0;34m(\u001b[0m\u001b[0;34m\"Coordenada X\"\u001b[0m\u001b[0;34m)\u001b[0m\u001b[0;34m)\u001b[0m\u001b[0;34m\u001b[0m\u001b[0;34m\u001b[0m\u001b[0m\n\u001b[0;32m----> 3\u001b[0;31m     \u001b[0my\u001b[0m\u001b[0;34m=\u001b[0m\u001b[0mint\u001b[0m\u001b[0;34m(\u001b[0m\u001b[0minput\u001b[0m\u001b[0;34m(\u001b[0m\u001b[0;34m\"Coordenada Y\"\u001b[0m\u001b[0;34m)\u001b[0m\u001b[0;34m)\u001b[0m\u001b[0;34m\u001b[0m\u001b[0;34m\u001b[0m\u001b[0m\n\u001b[0m\u001b[1;32m      4\u001b[0m     \u001b[0;32mif\u001b[0m \u001b[0mTablero_maquina\u001b[0m\u001b[0;34m[\u001b[0m\u001b[0mx\u001b[0m\u001b[0;34m]\u001b[0m\u001b[0;34m[\u001b[0m\u001b[0my\u001b[0m\u001b[0;34m]\u001b[0m \u001b[0;34m==\u001b[0m \u001b[0;34m\"B\"\u001b[0m\u001b[0;34m:\u001b[0m\u001b[0;34m\u001b[0m\u001b[0;34m\u001b[0m\u001b[0m\n\u001b[1;32m      5\u001b[0m         \u001b[0;32mTrue\u001b[0m\u001b[0;34m\u001b[0m\u001b[0;34m\u001b[0m\u001b[0m\n",
      "\u001b[0;32m/Library/Frameworks/Python.framework/Versions/3.7/lib/python3.7/site-packages/ipykernel/kernelbase.py\u001b[0m in \u001b[0;36mraw_input\u001b[0;34m(self, prompt)\u001b[0m\n\u001b[1;32m   1008\u001b[0m             \u001b[0mself\u001b[0m\u001b[0;34m.\u001b[0m\u001b[0m_parent_ident\u001b[0m\u001b[0;34m[\u001b[0m\u001b[0;34m\"shell\"\u001b[0m\u001b[0;34m]\u001b[0m\u001b[0;34m,\u001b[0m\u001b[0;34m\u001b[0m\u001b[0;34m\u001b[0m\u001b[0m\n\u001b[1;32m   1009\u001b[0m             \u001b[0mself\u001b[0m\u001b[0;34m.\u001b[0m\u001b[0mget_parent\u001b[0m\u001b[0;34m(\u001b[0m\u001b[0;34m\"shell\"\u001b[0m\u001b[0;34m)\u001b[0m\u001b[0;34m,\u001b[0m\u001b[0;34m\u001b[0m\u001b[0;34m\u001b[0m\u001b[0m\n\u001b[0;32m-> 1010\u001b[0;31m             \u001b[0mpassword\u001b[0m\u001b[0;34m=\u001b[0m\u001b[0;32mFalse\u001b[0m\u001b[0;34m,\u001b[0m\u001b[0;34m\u001b[0m\u001b[0;34m\u001b[0m\u001b[0m\n\u001b[0m\u001b[1;32m   1011\u001b[0m         )\n\u001b[1;32m   1012\u001b[0m \u001b[0;34m\u001b[0m\u001b[0m\n",
      "\u001b[0;32m/Library/Frameworks/Python.framework/Versions/3.7/lib/python3.7/site-packages/ipykernel/kernelbase.py\u001b[0m in \u001b[0;36m_input_request\u001b[0;34m(self, prompt, ident, parent, password)\u001b[0m\n\u001b[1;32m   1049\u001b[0m             \u001b[0;32mexcept\u001b[0m \u001b[0mKeyboardInterrupt\u001b[0m\u001b[0;34m:\u001b[0m\u001b[0;34m\u001b[0m\u001b[0;34m\u001b[0m\u001b[0m\n\u001b[1;32m   1050\u001b[0m                 \u001b[0;31m# re-raise KeyboardInterrupt, to truncate traceback\u001b[0m\u001b[0;34m\u001b[0m\u001b[0;34m\u001b[0m\u001b[0;34m\u001b[0m\u001b[0m\n\u001b[0;32m-> 1051\u001b[0;31m                 \u001b[0;32mraise\u001b[0m \u001b[0mKeyboardInterrupt\u001b[0m\u001b[0;34m(\u001b[0m\u001b[0;34m\"Interrupted by user\"\u001b[0m\u001b[0;34m)\u001b[0m \u001b[0;32mfrom\u001b[0m \u001b[0;32mNone\u001b[0m\u001b[0;34m\u001b[0m\u001b[0;34m\u001b[0m\u001b[0m\n\u001b[0m\u001b[1;32m   1052\u001b[0m             \u001b[0;32mexcept\u001b[0m \u001b[0mException\u001b[0m\u001b[0;34m:\u001b[0m\u001b[0;34m\u001b[0m\u001b[0;34m\u001b[0m\u001b[0m\n\u001b[1;32m   1053\u001b[0m                 \u001b[0mself\u001b[0m\u001b[0;34m.\u001b[0m\u001b[0mlog\u001b[0m\u001b[0;34m.\u001b[0m\u001b[0mwarning\u001b[0m\u001b[0;34m(\u001b[0m\u001b[0;34m\"Invalid Message:\"\u001b[0m\u001b[0;34m,\u001b[0m \u001b[0mexc_info\u001b[0m\u001b[0;34m=\u001b[0m\u001b[0;32mTrue\u001b[0m\u001b[0;34m)\u001b[0m\u001b[0;34m\u001b[0m\u001b[0;34m\u001b[0m\u001b[0m\n",
      "\u001b[0;31mKeyboardInterrupt\u001b[0m: Interrupted by user"
     ]
    }
   ],
   "metadata": {}
  },
  {
   "cell_type": "code",
   "execution_count": 9,
   "source": [
    "def disparo_jugador():\n",
    "    x=int(input(\"Coordenada X\"))\n",
    "    y=int(input(\"Coordenada Y\"))\n",
    "    if Tablero_maquina[x][y] == \"B\":\n",
    "        True\n",
    "        if True:\n",
    "            Tablero_agua_J[x][y] = \"X\"\n",
    "            Tablero_maquina[x][y] = \"X\"\n",
    "        print(\"Tablero_agua_Jugador\")\n",
    "        print(Tablero_agua_J)\n",
    "        print(\"-------------------------------------------\")\n",
    "        print(\"Tablero_maquina\")\n",
    "        print(Tablero_maquina)\n",
    "        while True:\n",
    "            x=int(input(\"Coordenada X\"))\n",
    "            y=int(input(\"Coordenada Y\"))\n",
    "            pass\n",
    "    else:\n",
    "        Tablero_agua_J[x][y] = \"A\"\n",
    "    print(\"Tablero_agua_Jugador\") \n",
    "    print(Tablero_agua_J)\n",
    "    #¿CUANDO FALLE PUEDO LLAMAR AQUÍ A LA FUNCION disparo_maquina PARA QUE EMPIECE SU TURNO?\n",
    "disparo_jugador()\n",
    "disparo_jugador()"
   ],
   "outputs": [
    {
     "output_type": "stream",
     "name": "stdout",
     "text": [
      "Tablero_agua_Jugador\n",
      "[['X' 'X' '_' 'X' '_' '_' '_' '_' '_' '_']\n",
      " ['_' 'A' '_' '_' '_' '_' '_' '_' '_' '_']\n",
      " ['_' '_' '_' '_' '_' '_' '_' '_' '_' '_']\n",
      " ['_' '_' '_' '_' '_' '_' '_' '_' '_' '_']\n",
      " ['_' '_' '_' '_' '_' '_' '_' '_' '_' '_']\n",
      " ['_' '_' '_' '_' '_' '_' '_' '_' '_' '_']\n",
      " ['_' '_' '_' '_' '_' '_' '_' '_' '_' '_']\n",
      " ['_' '_' '_' '_' '_' '_' '_' '_' '_' '_']\n",
      " ['_' '_' '_' '_' '_' '_' '_' '_' '_' '_']\n",
      " ['_' '_' '_' '_' '_' '_' '_' '_' '_' '_']]\n",
      "Tablero_agua_Jugador\n",
      "[['X' 'X' '_' 'X' '_' '_' '_' '_' '_' '_']\n",
      " ['_' 'A' 'A' '_' '_' '_' '_' '_' '_' '_']\n",
      " ['_' '_' '_' '_' '_' '_' '_' '_' '_' '_']\n",
      " ['_' '_' '_' '_' '_' '_' '_' '_' '_' '_']\n",
      " ['_' '_' '_' '_' '_' '_' '_' '_' '_' '_']\n",
      " ['_' '_' '_' '_' '_' '_' '_' '_' '_' '_']\n",
      " ['_' '_' '_' '_' '_' '_' '_' '_' '_' '_']\n",
      " ['_' '_' '_' '_' '_' '_' '_' '_' '_' '_']\n",
      " ['_' '_' '_' '_' '_' '_' '_' '_' '_' '_']\n",
      " ['_' '_' '_' '_' '_' '_' '_' '_' '_' '_']]\n"
     ]
    }
   ],
   "metadata": {}
  },
  {
   "cell_type": "code",
   "execution_count": null,
   "source": [],
   "outputs": [],
   "metadata": {}
  }
 ],
 "metadata": {
  "orig_nbformat": 4,
  "language_info": {
   "name": "python",
   "version": "3.7.4",
   "mimetype": "text/x-python",
   "codemirror_mode": {
    "name": "ipython",
    "version": 3
   },
   "pygments_lexer": "ipython3",
   "nbconvert_exporter": "python",
   "file_extension": ".py"
  },
  "kernelspec": {
   "name": "python3",
   "display_name": "Python 3.7.4 64-bit"
  },
  "interpreter": {
   "hash": "aee8b7b246df8f9039afb4144a1f6fd8d2ca17a180786b69acc140d282b71a49"
  }
 },
 "nbformat": 4,
 "nbformat_minor": 2
}